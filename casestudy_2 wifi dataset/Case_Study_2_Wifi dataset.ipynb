{
 "cells": [
  {
   "cell_type": "code",
   "execution_count": 10,
   "id": "42b2b753",
   "metadata": {},
   "outputs": [],
   "source": [
    "import pandas as pd\n",
    "import numpy as np\n",
    "import matplotlib.pyplot as plt"
   ]
  },
  {
   "cell_type": "code",
   "execution_count": 11,
   "id": "79fa9b1e",
   "metadata": {},
   "outputs": [],
   "source": [
    "train_data = pd.read_csv('trainingData.csv')\n",
    "val_data = pd.read_csv('validationData.csv')"
   ]
  },
  {
   "cell_type": "code",
   "execution_count": 12,
   "id": "058a30c8",
   "metadata": {
    "scrolled": true
   },
   "outputs": [
    {
     "data": {
      "text/html": [
       "<div>\n",
       "<style scoped>\n",
       "    .dataframe tbody tr th:only-of-type {\n",
       "        vertical-align: middle;\n",
       "    }\n",
       "\n",
       "    .dataframe tbody tr th {\n",
       "        vertical-align: top;\n",
       "    }\n",
       "\n",
       "    .dataframe thead th {\n",
       "        text-align: right;\n",
       "    }\n",
       "</style>\n",
       "<table border=\"1\" class=\"dataframe\">\n",
       "  <thead>\n",
       "    <tr style=\"text-align: right;\">\n",
       "      <th></th>\n",
       "      <th>WAP001</th>\n",
       "      <th>WAP002</th>\n",
       "      <th>WAP003</th>\n",
       "      <th>WAP004</th>\n",
       "      <th>WAP005</th>\n",
       "      <th>WAP006</th>\n",
       "      <th>WAP007</th>\n",
       "      <th>WAP008</th>\n",
       "      <th>WAP009</th>\n",
       "      <th>WAP010</th>\n",
       "      <th>...</th>\n",
       "      <th>WAP520</th>\n",
       "      <th>LONGITUDE</th>\n",
       "      <th>LATITUDE</th>\n",
       "      <th>FLOOR</th>\n",
       "      <th>BUILDINGID</th>\n",
       "      <th>SPACEID</th>\n",
       "      <th>RELATIVEPOSITION</th>\n",
       "      <th>USERID</th>\n",
       "      <th>PHONEID</th>\n",
       "      <th>TIMESTAMP</th>\n",
       "    </tr>\n",
       "  </thead>\n",
       "  <tbody>\n",
       "    <tr>\n",
       "      <th>0</th>\n",
       "      <td>100</td>\n",
       "      <td>100</td>\n",
       "      <td>100</td>\n",
       "      <td>100</td>\n",
       "      <td>100</td>\n",
       "      <td>100</td>\n",
       "      <td>100</td>\n",
       "      <td>100</td>\n",
       "      <td>100</td>\n",
       "      <td>100</td>\n",
       "      <td>...</td>\n",
       "      <td>100</td>\n",
       "      <td>-7541.2643</td>\n",
       "      <td>4.864921e+06</td>\n",
       "      <td>2</td>\n",
       "      <td>1</td>\n",
       "      <td>106</td>\n",
       "      <td>2</td>\n",
       "      <td>2</td>\n",
       "      <td>23</td>\n",
       "      <td>1371713733</td>\n",
       "    </tr>\n",
       "    <tr>\n",
       "      <th>1</th>\n",
       "      <td>100</td>\n",
       "      <td>100</td>\n",
       "      <td>100</td>\n",
       "      <td>100</td>\n",
       "      <td>100</td>\n",
       "      <td>100</td>\n",
       "      <td>100</td>\n",
       "      <td>100</td>\n",
       "      <td>100</td>\n",
       "      <td>100</td>\n",
       "      <td>...</td>\n",
       "      <td>100</td>\n",
       "      <td>-7536.6212</td>\n",
       "      <td>4.864934e+06</td>\n",
       "      <td>2</td>\n",
       "      <td>1</td>\n",
       "      <td>106</td>\n",
       "      <td>2</td>\n",
       "      <td>2</td>\n",
       "      <td>23</td>\n",
       "      <td>1371713691</td>\n",
       "    </tr>\n",
       "    <tr>\n",
       "      <th>2</th>\n",
       "      <td>100</td>\n",
       "      <td>100</td>\n",
       "      <td>100</td>\n",
       "      <td>100</td>\n",
       "      <td>100</td>\n",
       "      <td>100</td>\n",
       "      <td>100</td>\n",
       "      <td>-97</td>\n",
       "      <td>100</td>\n",
       "      <td>100</td>\n",
       "      <td>...</td>\n",
       "      <td>100</td>\n",
       "      <td>-7519.1524</td>\n",
       "      <td>4.864950e+06</td>\n",
       "      <td>2</td>\n",
       "      <td>1</td>\n",
       "      <td>103</td>\n",
       "      <td>2</td>\n",
       "      <td>2</td>\n",
       "      <td>23</td>\n",
       "      <td>1371714095</td>\n",
       "    </tr>\n",
       "    <tr>\n",
       "      <th>3</th>\n",
       "      <td>100</td>\n",
       "      <td>100</td>\n",
       "      <td>100</td>\n",
       "      <td>100</td>\n",
       "      <td>100</td>\n",
       "      <td>100</td>\n",
       "      <td>100</td>\n",
       "      <td>100</td>\n",
       "      <td>100</td>\n",
       "      <td>100</td>\n",
       "      <td>...</td>\n",
       "      <td>100</td>\n",
       "      <td>-7524.5704</td>\n",
       "      <td>4.864934e+06</td>\n",
       "      <td>2</td>\n",
       "      <td>1</td>\n",
       "      <td>102</td>\n",
       "      <td>2</td>\n",
       "      <td>2</td>\n",
       "      <td>23</td>\n",
       "      <td>1371713807</td>\n",
       "    </tr>\n",
       "    <tr>\n",
       "      <th>4</th>\n",
       "      <td>100</td>\n",
       "      <td>100</td>\n",
       "      <td>100</td>\n",
       "      <td>100</td>\n",
       "      <td>100</td>\n",
       "      <td>100</td>\n",
       "      <td>100</td>\n",
       "      <td>100</td>\n",
       "      <td>100</td>\n",
       "      <td>100</td>\n",
       "      <td>...</td>\n",
       "      <td>100</td>\n",
       "      <td>-7632.1436</td>\n",
       "      <td>4.864982e+06</td>\n",
       "      <td>0</td>\n",
       "      <td>0</td>\n",
       "      <td>122</td>\n",
       "      <td>2</td>\n",
       "      <td>11</td>\n",
       "      <td>13</td>\n",
       "      <td>1369909710</td>\n",
       "    </tr>\n",
       "  </tbody>\n",
       "</table>\n",
       "<p>5 rows × 529 columns</p>\n",
       "</div>"
      ],
      "text/plain": [
       "   WAP001  WAP002  WAP003  WAP004  WAP005  WAP006  WAP007  WAP008  WAP009  \\\n",
       "0     100     100     100     100     100     100     100     100     100   \n",
       "1     100     100     100     100     100     100     100     100     100   \n",
       "2     100     100     100     100     100     100     100     -97     100   \n",
       "3     100     100     100     100     100     100     100     100     100   \n",
       "4     100     100     100     100     100     100     100     100     100   \n",
       "\n",
       "   WAP010  ...  WAP520  LONGITUDE      LATITUDE  FLOOR  BUILDINGID  SPACEID  \\\n",
       "0     100  ...     100 -7541.2643  4.864921e+06      2           1      106   \n",
       "1     100  ...     100 -7536.6212  4.864934e+06      2           1      106   \n",
       "2     100  ...     100 -7519.1524  4.864950e+06      2           1      103   \n",
       "3     100  ...     100 -7524.5704  4.864934e+06      2           1      102   \n",
       "4     100  ...     100 -7632.1436  4.864982e+06      0           0      122   \n",
       "\n",
       "   RELATIVEPOSITION  USERID  PHONEID   TIMESTAMP  \n",
       "0                 2       2       23  1371713733  \n",
       "1                 2       2       23  1371713691  \n",
       "2                 2       2       23  1371714095  \n",
       "3                 2       2       23  1371713807  \n",
       "4                 2      11       13  1369909710  \n",
       "\n",
       "[5 rows x 529 columns]"
      ]
     },
     "execution_count": 12,
     "metadata": {},
     "output_type": "execute_result"
    }
   ],
   "source": [
    "train_data.head()"
   ]
  },
  {
   "cell_type": "code",
   "execution_count": 13,
   "id": "aedb00f6",
   "metadata": {},
   "outputs": [
    {
     "data": {
      "text/html": [
       "<div>\n",
       "<style scoped>\n",
       "    .dataframe tbody tr th:only-of-type {\n",
       "        vertical-align: middle;\n",
       "    }\n",
       "\n",
       "    .dataframe tbody tr th {\n",
       "        vertical-align: top;\n",
       "    }\n",
       "\n",
       "    .dataframe thead th {\n",
       "        text-align: right;\n",
       "    }\n",
       "</style>\n",
       "<table border=\"1\" class=\"dataframe\">\n",
       "  <thead>\n",
       "    <tr style=\"text-align: right;\">\n",
       "      <th></th>\n",
       "      <th>WAP001</th>\n",
       "      <th>WAP002</th>\n",
       "      <th>WAP003</th>\n",
       "      <th>WAP004</th>\n",
       "      <th>WAP005</th>\n",
       "      <th>WAP006</th>\n",
       "      <th>WAP007</th>\n",
       "      <th>WAP008</th>\n",
       "      <th>WAP009</th>\n",
       "      <th>WAP010</th>\n",
       "      <th>...</th>\n",
       "      <th>WAP520</th>\n",
       "      <th>LONGITUDE</th>\n",
       "      <th>LATITUDE</th>\n",
       "      <th>FLOOR</th>\n",
       "      <th>BUILDINGID</th>\n",
       "      <th>SPACEID</th>\n",
       "      <th>RELATIVEPOSITION</th>\n",
       "      <th>USERID</th>\n",
       "      <th>PHONEID</th>\n",
       "      <th>TIMESTAMP</th>\n",
       "    </tr>\n",
       "  </thead>\n",
       "  <tbody>\n",
       "    <tr>\n",
       "      <th>count</th>\n",
       "      <td>19937.000000</td>\n",
       "      <td>19937.000000</td>\n",
       "      <td>19937.0</td>\n",
       "      <td>19937.0</td>\n",
       "      <td>19937.000000</td>\n",
       "      <td>19937.000000</td>\n",
       "      <td>19937.000000</td>\n",
       "      <td>19937.000000</td>\n",
       "      <td>19937.000000</td>\n",
       "      <td>19937.000000</td>\n",
       "      <td>...</td>\n",
       "      <td>19937.0</td>\n",
       "      <td>19937.000000</td>\n",
       "      <td>1.993700e+04</td>\n",
       "      <td>19937.000000</td>\n",
       "      <td>19937.000000</td>\n",
       "      <td>19937.000000</td>\n",
       "      <td>19937.000000</td>\n",
       "      <td>19937.000000</td>\n",
       "      <td>19937.000000</td>\n",
       "      <td>1.993700e+04</td>\n",
       "    </tr>\n",
       "    <tr>\n",
       "      <th>mean</th>\n",
       "      <td>99.823644</td>\n",
       "      <td>99.820936</td>\n",
       "      <td>100.0</td>\n",
       "      <td>100.0</td>\n",
       "      <td>99.613733</td>\n",
       "      <td>97.130461</td>\n",
       "      <td>94.733661</td>\n",
       "      <td>93.820234</td>\n",
       "      <td>94.693936</td>\n",
       "      <td>99.163766</td>\n",
       "      <td>...</td>\n",
       "      <td>100.0</td>\n",
       "      <td>-7464.275947</td>\n",
       "      <td>4.864871e+06</td>\n",
       "      <td>1.674575</td>\n",
       "      <td>1.212820</td>\n",
       "      <td>148.429954</td>\n",
       "      <td>1.833024</td>\n",
       "      <td>9.068014</td>\n",
       "      <td>13.021869</td>\n",
       "      <td>1.371421e+09</td>\n",
       "    </tr>\n",
       "    <tr>\n",
       "      <th>std</th>\n",
       "      <td>5.866842</td>\n",
       "      <td>5.798156</td>\n",
       "      <td>0.0</td>\n",
       "      <td>0.0</td>\n",
       "      <td>8.615657</td>\n",
       "      <td>22.931890</td>\n",
       "      <td>30.541335</td>\n",
       "      <td>33.010404</td>\n",
       "      <td>30.305084</td>\n",
       "      <td>12.634045</td>\n",
       "      <td>...</td>\n",
       "      <td>0.0</td>\n",
       "      <td>123.402010</td>\n",
       "      <td>6.693318e+01</td>\n",
       "      <td>1.223078</td>\n",
       "      <td>0.833139</td>\n",
       "      <td>58.342106</td>\n",
       "      <td>0.372964</td>\n",
       "      <td>4.988720</td>\n",
       "      <td>5.362410</td>\n",
       "      <td>5.572054e+05</td>\n",
       "    </tr>\n",
       "    <tr>\n",
       "      <th>min</th>\n",
       "      <td>-97.000000</td>\n",
       "      <td>-90.000000</td>\n",
       "      <td>100.0</td>\n",
       "      <td>100.0</td>\n",
       "      <td>-97.000000</td>\n",
       "      <td>-98.000000</td>\n",
       "      <td>-99.000000</td>\n",
       "      <td>-98.000000</td>\n",
       "      <td>-98.000000</td>\n",
       "      <td>-99.000000</td>\n",
       "      <td>...</td>\n",
       "      <td>100.0</td>\n",
       "      <td>-7691.338400</td>\n",
       "      <td>4.864746e+06</td>\n",
       "      <td>0.000000</td>\n",
       "      <td>0.000000</td>\n",
       "      <td>1.000000</td>\n",
       "      <td>1.000000</td>\n",
       "      <td>1.000000</td>\n",
       "      <td>1.000000</td>\n",
       "      <td>1.369909e+09</td>\n",
       "    </tr>\n",
       "    <tr>\n",
       "      <th>25%</th>\n",
       "      <td>100.000000</td>\n",
       "      <td>100.000000</td>\n",
       "      <td>100.0</td>\n",
       "      <td>100.0</td>\n",
       "      <td>100.000000</td>\n",
       "      <td>100.000000</td>\n",
       "      <td>100.000000</td>\n",
       "      <td>100.000000</td>\n",
       "      <td>100.000000</td>\n",
       "      <td>100.000000</td>\n",
       "      <td>...</td>\n",
       "      <td>100.0</td>\n",
       "      <td>-7594.737000</td>\n",
       "      <td>4.864821e+06</td>\n",
       "      <td>1.000000</td>\n",
       "      <td>0.000000</td>\n",
       "      <td>110.000000</td>\n",
       "      <td>2.000000</td>\n",
       "      <td>5.000000</td>\n",
       "      <td>8.000000</td>\n",
       "      <td>1.371056e+09</td>\n",
       "    </tr>\n",
       "    <tr>\n",
       "      <th>50%</th>\n",
       "      <td>100.000000</td>\n",
       "      <td>100.000000</td>\n",
       "      <td>100.0</td>\n",
       "      <td>100.0</td>\n",
       "      <td>100.000000</td>\n",
       "      <td>100.000000</td>\n",
       "      <td>100.000000</td>\n",
       "      <td>100.000000</td>\n",
       "      <td>100.000000</td>\n",
       "      <td>100.000000</td>\n",
       "      <td>...</td>\n",
       "      <td>100.0</td>\n",
       "      <td>-7423.060900</td>\n",
       "      <td>4.864852e+06</td>\n",
       "      <td>2.000000</td>\n",
       "      <td>1.000000</td>\n",
       "      <td>129.000000</td>\n",
       "      <td>2.000000</td>\n",
       "      <td>11.000000</td>\n",
       "      <td>13.000000</td>\n",
       "      <td>1.371716e+09</td>\n",
       "    </tr>\n",
       "    <tr>\n",
       "      <th>75%</th>\n",
       "      <td>100.000000</td>\n",
       "      <td>100.000000</td>\n",
       "      <td>100.0</td>\n",
       "      <td>100.0</td>\n",
       "      <td>100.000000</td>\n",
       "      <td>100.000000</td>\n",
       "      <td>100.000000</td>\n",
       "      <td>100.000000</td>\n",
       "      <td>100.000000</td>\n",
       "      <td>100.000000</td>\n",
       "      <td>...</td>\n",
       "      <td>100.0</td>\n",
       "      <td>-7359.193000</td>\n",
       "      <td>4.864930e+06</td>\n",
       "      <td>3.000000</td>\n",
       "      <td>2.000000</td>\n",
       "      <td>207.000000</td>\n",
       "      <td>2.000000</td>\n",
       "      <td>13.000000</td>\n",
       "      <td>14.000000</td>\n",
       "      <td>1.371721e+09</td>\n",
       "    </tr>\n",
       "    <tr>\n",
       "      <th>max</th>\n",
       "      <td>100.000000</td>\n",
       "      <td>100.000000</td>\n",
       "      <td>100.0</td>\n",
       "      <td>100.0</td>\n",
       "      <td>100.000000</td>\n",
       "      <td>100.000000</td>\n",
       "      <td>100.000000</td>\n",
       "      <td>100.000000</td>\n",
       "      <td>100.000000</td>\n",
       "      <td>100.000000</td>\n",
       "      <td>...</td>\n",
       "      <td>100.0</td>\n",
       "      <td>-7300.818990</td>\n",
       "      <td>4.865017e+06</td>\n",
       "      <td>4.000000</td>\n",
       "      <td>2.000000</td>\n",
       "      <td>254.000000</td>\n",
       "      <td>2.000000</td>\n",
       "      <td>18.000000</td>\n",
       "      <td>24.000000</td>\n",
       "      <td>1.371738e+09</td>\n",
       "    </tr>\n",
       "  </tbody>\n",
       "</table>\n",
       "<p>8 rows × 529 columns</p>\n",
       "</div>"
      ],
      "text/plain": [
       "             WAP001        WAP002   WAP003   WAP004        WAP005  \\\n",
       "count  19937.000000  19937.000000  19937.0  19937.0  19937.000000   \n",
       "mean      99.823644     99.820936    100.0    100.0     99.613733   \n",
       "std        5.866842      5.798156      0.0      0.0      8.615657   \n",
       "min      -97.000000    -90.000000    100.0    100.0    -97.000000   \n",
       "25%      100.000000    100.000000    100.0    100.0    100.000000   \n",
       "50%      100.000000    100.000000    100.0    100.0    100.000000   \n",
       "75%      100.000000    100.000000    100.0    100.0    100.000000   \n",
       "max      100.000000    100.000000    100.0    100.0    100.000000   \n",
       "\n",
       "             WAP006        WAP007        WAP008        WAP009        WAP010  \\\n",
       "count  19937.000000  19937.000000  19937.000000  19937.000000  19937.000000   \n",
       "mean      97.130461     94.733661     93.820234     94.693936     99.163766   \n",
       "std       22.931890     30.541335     33.010404     30.305084     12.634045   \n",
       "min      -98.000000    -99.000000    -98.000000    -98.000000    -99.000000   \n",
       "25%      100.000000    100.000000    100.000000    100.000000    100.000000   \n",
       "50%      100.000000    100.000000    100.000000    100.000000    100.000000   \n",
       "75%      100.000000    100.000000    100.000000    100.000000    100.000000   \n",
       "max      100.000000    100.000000    100.000000    100.000000    100.000000   \n",
       "\n",
       "       ...   WAP520     LONGITUDE      LATITUDE         FLOOR    BUILDINGID  \\\n",
       "count  ...  19937.0  19937.000000  1.993700e+04  19937.000000  19937.000000   \n",
       "mean   ...    100.0  -7464.275947  4.864871e+06      1.674575      1.212820   \n",
       "std    ...      0.0    123.402010  6.693318e+01      1.223078      0.833139   \n",
       "min    ...    100.0  -7691.338400  4.864746e+06      0.000000      0.000000   \n",
       "25%    ...    100.0  -7594.737000  4.864821e+06      1.000000      0.000000   \n",
       "50%    ...    100.0  -7423.060900  4.864852e+06      2.000000      1.000000   \n",
       "75%    ...    100.0  -7359.193000  4.864930e+06      3.000000      2.000000   \n",
       "max    ...    100.0  -7300.818990  4.865017e+06      4.000000      2.000000   \n",
       "\n",
       "            SPACEID  RELATIVEPOSITION        USERID       PHONEID  \\\n",
       "count  19937.000000      19937.000000  19937.000000  19937.000000   \n",
       "mean     148.429954          1.833024      9.068014     13.021869   \n",
       "std       58.342106          0.372964      4.988720      5.362410   \n",
       "min        1.000000          1.000000      1.000000      1.000000   \n",
       "25%      110.000000          2.000000      5.000000      8.000000   \n",
       "50%      129.000000          2.000000     11.000000     13.000000   \n",
       "75%      207.000000          2.000000     13.000000     14.000000   \n",
       "max      254.000000          2.000000     18.000000     24.000000   \n",
       "\n",
       "          TIMESTAMP  \n",
       "count  1.993700e+04  \n",
       "mean   1.371421e+09  \n",
       "std    5.572054e+05  \n",
       "min    1.369909e+09  \n",
       "25%    1.371056e+09  \n",
       "50%    1.371716e+09  \n",
       "75%    1.371721e+09  \n",
       "max    1.371738e+09  \n",
       "\n",
       "[8 rows x 529 columns]"
      ]
     },
     "execution_count": 13,
     "metadata": {},
     "output_type": "execute_result"
    }
   ],
   "source": [
    "train_data.describe()"
   ]
  },
  {
   "cell_type": "code",
   "execution_count": 14,
   "id": "34ef392c",
   "metadata": {},
   "outputs": [
    {
     "data": {
      "text/html": [
       "<div>\n",
       "<style scoped>\n",
       "    .dataframe tbody tr th:only-of-type {\n",
       "        vertical-align: middle;\n",
       "    }\n",
       "\n",
       "    .dataframe tbody tr th {\n",
       "        vertical-align: top;\n",
       "    }\n",
       "\n",
       "    .dataframe thead th {\n",
       "        text-align: right;\n",
       "    }\n",
       "</style>\n",
       "<table border=\"1\" class=\"dataframe\">\n",
       "  <thead>\n",
       "    <tr style=\"text-align: right;\">\n",
       "      <th></th>\n",
       "      <th>WAP001</th>\n",
       "      <th>WAP002</th>\n",
       "      <th>WAP003</th>\n",
       "      <th>WAP004</th>\n",
       "      <th>WAP005</th>\n",
       "      <th>WAP006</th>\n",
       "      <th>WAP007</th>\n",
       "      <th>WAP008</th>\n",
       "      <th>WAP009</th>\n",
       "      <th>WAP010</th>\n",
       "      <th>...</th>\n",
       "      <th>LONGITUDE</th>\n",
       "      <th>LATITUDE</th>\n",
       "      <th>FLOOR</th>\n",
       "      <th>BUILDINGID</th>\n",
       "      <th>SPACEID</th>\n",
       "      <th>RELATIVEPOSITION</th>\n",
       "      <th>USERID</th>\n",
       "      <th>PHONEID</th>\n",
       "      <th>TIMESTAMP</th>\n",
       "      <th>FLOOR_BUILDING</th>\n",
       "    </tr>\n",
       "  </thead>\n",
       "  <tbody>\n",
       "    <tr>\n",
       "      <th>0</th>\n",
       "      <td>100</td>\n",
       "      <td>100</td>\n",
       "      <td>100</td>\n",
       "      <td>100</td>\n",
       "      <td>100</td>\n",
       "      <td>100</td>\n",
       "      <td>100</td>\n",
       "      <td>100</td>\n",
       "      <td>100</td>\n",
       "      <td>100</td>\n",
       "      <td>...</td>\n",
       "      <td>-7541.2643</td>\n",
       "      <td>4.864921e+06</td>\n",
       "      <td>2</td>\n",
       "      <td>1</td>\n",
       "      <td>106</td>\n",
       "      <td>2</td>\n",
       "      <td>2</td>\n",
       "      <td>23</td>\n",
       "      <td>1371713733</td>\n",
       "      <td>21</td>\n",
       "    </tr>\n",
       "    <tr>\n",
       "      <th>1</th>\n",
       "      <td>100</td>\n",
       "      <td>100</td>\n",
       "      <td>100</td>\n",
       "      <td>100</td>\n",
       "      <td>100</td>\n",
       "      <td>100</td>\n",
       "      <td>100</td>\n",
       "      <td>100</td>\n",
       "      <td>100</td>\n",
       "      <td>100</td>\n",
       "      <td>...</td>\n",
       "      <td>-7536.6212</td>\n",
       "      <td>4.864934e+06</td>\n",
       "      <td>2</td>\n",
       "      <td>1</td>\n",
       "      <td>106</td>\n",
       "      <td>2</td>\n",
       "      <td>2</td>\n",
       "      <td>23</td>\n",
       "      <td>1371713691</td>\n",
       "      <td>21</td>\n",
       "    </tr>\n",
       "    <tr>\n",
       "      <th>2</th>\n",
       "      <td>100</td>\n",
       "      <td>100</td>\n",
       "      <td>100</td>\n",
       "      <td>100</td>\n",
       "      <td>100</td>\n",
       "      <td>100</td>\n",
       "      <td>100</td>\n",
       "      <td>-97</td>\n",
       "      <td>100</td>\n",
       "      <td>100</td>\n",
       "      <td>...</td>\n",
       "      <td>-7519.1524</td>\n",
       "      <td>4.864950e+06</td>\n",
       "      <td>2</td>\n",
       "      <td>1</td>\n",
       "      <td>103</td>\n",
       "      <td>2</td>\n",
       "      <td>2</td>\n",
       "      <td>23</td>\n",
       "      <td>1371714095</td>\n",
       "      <td>21</td>\n",
       "    </tr>\n",
       "    <tr>\n",
       "      <th>3</th>\n",
       "      <td>100</td>\n",
       "      <td>100</td>\n",
       "      <td>100</td>\n",
       "      <td>100</td>\n",
       "      <td>100</td>\n",
       "      <td>100</td>\n",
       "      <td>100</td>\n",
       "      <td>100</td>\n",
       "      <td>100</td>\n",
       "      <td>100</td>\n",
       "      <td>...</td>\n",
       "      <td>-7524.5704</td>\n",
       "      <td>4.864934e+06</td>\n",
       "      <td>2</td>\n",
       "      <td>1</td>\n",
       "      <td>102</td>\n",
       "      <td>2</td>\n",
       "      <td>2</td>\n",
       "      <td>23</td>\n",
       "      <td>1371713807</td>\n",
       "      <td>21</td>\n",
       "    </tr>\n",
       "    <tr>\n",
       "      <th>4</th>\n",
       "      <td>100</td>\n",
       "      <td>100</td>\n",
       "      <td>100</td>\n",
       "      <td>100</td>\n",
       "      <td>100</td>\n",
       "      <td>100</td>\n",
       "      <td>100</td>\n",
       "      <td>100</td>\n",
       "      <td>100</td>\n",
       "      <td>100</td>\n",
       "      <td>...</td>\n",
       "      <td>-7632.1436</td>\n",
       "      <td>4.864982e+06</td>\n",
       "      <td>0</td>\n",
       "      <td>0</td>\n",
       "      <td>122</td>\n",
       "      <td>2</td>\n",
       "      <td>11</td>\n",
       "      <td>13</td>\n",
       "      <td>1369909710</td>\n",
       "      <td>00</td>\n",
       "    </tr>\n",
       "  </tbody>\n",
       "</table>\n",
       "<p>5 rows × 530 columns</p>\n",
       "</div>"
      ],
      "text/plain": [
       "   WAP001  WAP002  WAP003  WAP004  WAP005  WAP006  WAP007  WAP008  WAP009  \\\n",
       "0     100     100     100     100     100     100     100     100     100   \n",
       "1     100     100     100     100     100     100     100     100     100   \n",
       "2     100     100     100     100     100     100     100     -97     100   \n",
       "3     100     100     100     100     100     100     100     100     100   \n",
       "4     100     100     100     100     100     100     100     100     100   \n",
       "\n",
       "   WAP010  ...  LONGITUDE      LATITUDE  FLOOR  BUILDINGID  SPACEID  \\\n",
       "0     100  ... -7541.2643  4.864921e+06      2           1      106   \n",
       "1     100  ... -7536.6212  4.864934e+06      2           1      106   \n",
       "2     100  ... -7519.1524  4.864950e+06      2           1      103   \n",
       "3     100  ... -7524.5704  4.864934e+06      2           1      102   \n",
       "4     100  ... -7632.1436  4.864982e+06      0           0      122   \n",
       "\n",
       "   RELATIVEPOSITION  USERID  PHONEID   TIMESTAMP  FLOOR_BUILDING  \n",
       "0                 2       2       23  1371713733              21  \n",
       "1                 2       2       23  1371713691              21  \n",
       "2                 2       2       23  1371714095              21  \n",
       "3                 2       2       23  1371713807              21  \n",
       "4                 2      11       13  1369909710              00  \n",
       "\n",
       "[5 rows x 530 columns]"
      ]
     },
     "execution_count": 14,
     "metadata": {},
     "output_type": "execute_result"
    }
   ],
   "source": [
    "#creating a new column for floor and building combined\n",
    "train_data['FLOOR_BUILDING']=train_data['FLOOR'].astype(str) + train_data['BUILDINGID'].astype(str)\n",
    "val_data['FLOOR_BUILDING']=val_data['FLOOR'].astype(str) + val_data['BUILDINGID'].astype(str)\n",
    "train_data.head()"
   ]
  },
  {
   "cell_type": "code",
   "execution_count": 15,
   "id": "f61f5faa",
   "metadata": {
    "scrolled": false
   },
   "outputs": [
    {
     "name": "stdout",
     "output_type": "stream",
     "text": [
      "<class 'pandas.core.frame.DataFrame'>\n",
      "RangeIndex: 19937 entries, 0 to 19936\n",
      "Columns: 530 entries, WAP001 to FLOOR_BUILDING\n",
      "dtypes: float64(2), int64(527), object(1)\n",
      "memory usage: 80.6+ MB\n"
     ]
    }
   ],
   "source": [
    "train_data.info()"
   ]
  },
  {
   "cell_type": "code",
   "execution_count": 16,
   "id": "199323a8",
   "metadata": {},
   "outputs": [
    {
     "name": "stdout",
     "output_type": "stream",
     "text": [
      "Index(['WAP001', 'WAP002', 'WAP003', 'WAP004', 'WAP005', 'WAP006', 'WAP007',\n",
      "       'WAP008', 'WAP009', 'WAP010',\n",
      "       ...\n",
      "       'LONGITUDE', 'LATITUDE', 'FLOOR', 'BUILDINGID', 'SPACEID',\n",
      "       'RELATIVEPOSITION', 'USERID', 'PHONEID', 'TIMESTAMP', 'FLOOR_BUILDING'],\n",
      "      dtype='object', length=530)\n"
     ]
    }
   ],
   "source": [
    "print(train_data.columns)"
   ]
  },
  {
   "cell_type": "code",
   "execution_count": 17,
   "id": "23918852",
   "metadata": {},
   "outputs": [
    {
     "data": {
      "text/plain": [
       "-104"
      ]
     },
     "execution_count": 17,
     "metadata": {},
     "output_type": "execute_result"
    }
   ],
   "source": [
    "train_data.iloc[:,0:520].min().min()  #min WAP value"
   ]
  },
  {
   "cell_type": "code",
   "execution_count": 18,
   "id": "c907adcb",
   "metadata": {},
   "outputs": [
    {
     "data": {
      "text/plain": [
       "array([0, 2, 1, 3], dtype=int64)"
      ]
     },
     "execution_count": 18,
     "metadata": {},
     "output_type": "execute_result"
    }
   ],
   "source": [
    "train_data.loc[train_data[\"BUILDINGID\"] == 0][\"FLOOR\"].unique()"
   ]
  },
  {
   "cell_type": "code",
   "execution_count": 19,
   "id": "87747f79",
   "metadata": {},
   "outputs": [
    {
     "data": {
      "text/plain": [
       "array([2, 0, 1, 3], dtype=int64)"
      ]
     },
     "execution_count": 19,
     "metadata": {},
     "output_type": "execute_result"
    }
   ],
   "source": [
    "train_data.loc[train_data[\"BUILDINGID\"] == 1][\"FLOOR\"].unique()"
   ]
  },
  {
   "cell_type": "code",
   "execution_count": 20,
   "id": "cfa02b95",
   "metadata": {},
   "outputs": [
    {
     "data": {
      "text/plain": [
       "array([3, 2, 4, 1, 0], dtype=int64)"
      ]
     },
     "execution_count": 20,
     "metadata": {},
     "output_type": "execute_result"
    }
   ],
   "source": [
    "train_data.loc[train_data[\"BUILDINGID\"] == 2][\"FLOOR\"].unique()"
   ]
  },
  {
   "cell_type": "code",
   "execution_count": 21,
   "id": "8e5c9fbd",
   "metadata": {},
   "outputs": [],
   "source": [
    "#building 0 and 1 has four floors, building 2 has five floors"
   ]
  },
  {
   "cell_type": "code",
   "execution_count": 22,
   "id": "a46d8135",
   "metadata": {},
   "outputs": [],
   "source": [
    "from sklearn.model_selection import train_test_split\n",
    "\n",
    "train, test = train_test_split(train_data, test_size=0.4,stratify=train_data[['FLOOR_BUILDING']])\n",
    "train=train.reset_index(drop=True)\n",
    "test=test.reset_index(drop=True)"
   ]
  },
  {
   "cell_type": "markdown",
   "id": "c53541cb",
   "metadata": {},
   "source": [
    "## Data Preprocessing"
   ]
  },
  {
   "cell_type": "code",
   "execution_count": 23,
   "id": "f3a8997e",
   "metadata": {},
   "outputs": [],
   "source": [
    "def data_pp(df):\n",
    "    df = df.drop(['SPACEID','RELATIVEPOSITION','USERID', 'PHONEID', 'TIMESTAMP', 'FLOOR_BUILDING'], axis = 1)\n",
    "    X_df, Y_df = df.drop(['FLOOR', 'BUILDINGID','LONGITUDE', 'LATITUDE'], axis = 1), df[['FLOOR','BUILDINGID']]\n",
    "    return X_df, Y_df\n",
    "\n",
    "#training the dataset\n",
    "train_X, train_Y = data_pp(train)"
   ]
  },
  {
   "cell_type": "markdown",
   "id": "6cf370a8",
   "metadata": {},
   "source": [
    "## Executing different Models"
   ]
  },
  {
   "cell_type": "code",
   "execution_count": 24,
   "id": "4a6ab185",
   "metadata": {},
   "outputs": [],
   "source": [
    "#importing the models from sklearn\n",
    "from sklearn.ensemble import RandomForestClassifier\n",
    "from sklearn.svm import LinearSVC\n",
    "from sklearn.neighbors import KNeighborsClassifier\n",
    "from sklearn.multioutput import MultiOutputClassifier\n",
    "from sklearn.metrics import accuracy_score\n",
    "from sklearn.metrics import mean_squared_error\n",
    "from xgboost import XGBClassifier, DMatrix"
   ]
  },
  {
   "cell_type": "code",
   "execution_count": 25,
   "id": "0eaebb1e",
   "metadata": {},
   "outputs": [],
   "source": [
    "#function for training the dataset using 3 different models\n",
    "def train_model(train_X,train_Y):\n",
    "    model1 = MultiOutputClassifier(KNeighborsClassifier(n_neighbors=10)).fit(train_X,train_Y)\n",
    "    model2 = MultiOutputClassifier(RandomForestClassifier()).fit(train_X,train_Y)\n",
    "    model3 = MultiOutputClassifier(XGBClassifier(n_estimators=500)).fit(train_X,train_Y)\n",
    "    return [model1, model2, model3]\n",
    "models = train_model(train_X, train_Y)"
   ]
  },
  {
   "cell_type": "code",
   "execution_count": 26,
   "id": "17448e5b",
   "metadata": {},
   "outputs": [],
   "source": [
    "def metrics(val_data, models, data=None):\n",
    "    val_X, val_Y = data_pp(val_data)\n",
    "    yhat_val1 = models[0].predict(val_X)\n",
    "    yhat_val2 = models[1].predict(val_X)\n",
    "    yhat_val3 = models[2].predict(val_X)\n",
    "    \n",
    "    if data:\n",
    "        print('{}'.format(data))\n",
    "        \n",
    "    for i in range(len(models)):\n",
    "        yhat_val = models[i].predict(val_X)\n",
    "        print(models[i].get_params()['estimator'])\n",
    "        \n",
    "        if data == 'Validation':\n",
    "            print('MSE for model{} is '.format(i+1), mean_squared_error(yhat_val, val_Y))\n",
    "        print('{} Accuracy of model{} for column FLOOR: {} BUILDINGID: {}'.format(data,i+1,accuracy_score(yhat_val[:,0],val_Y.values[:,0]),accuracy_score(yhat_val[:,1],val_Y.values[:,1])))"
   ]
  },
  {
   "cell_type": "code",
   "execution_count": 27,
   "id": "3284a0e4",
   "metadata": {},
   "outputs": [
    {
     "name": "stdout",
     "output_type": "stream",
     "text": [
      "Validation\n",
      "KNeighborsClassifier(n_neighbors=10)\n",
      "MSE for model1 is  0.2533753375337534\n",
      "Validation Accuracy of model1 for column FLOOR: 0.7083708370837084 BUILDINGID: 0.9873987398739874\n",
      "RandomForestClassifier()\n",
      "MSE for model2 is  0.08640864086408641\n",
      "Validation Accuracy of model2 for column FLOOR: 0.8667866786678667 BUILDINGID: 0.9972997299729973\n",
      "XGBClassifier(base_score=None, booster=None, callbacks=None,\n",
      "              colsample_bylevel=None, colsample_bynode=None,\n",
      "              colsample_bytree=None, early_stopping_rounds=None,\n",
      "              enable_categorical=False, eval_metric=None, gamma=None,\n",
      "              gpu_id=None, grow_policy=None, importance_type=None,\n",
      "              interaction_constraints=None, learning_rate=None, max_bin=None,\n",
      "              max_cat_to_onehot=None, max_delta_step=None, max_depth=None,\n",
      "              max_leaves=None, min_child_weight=None, missing=nan,\n",
      "              monotone_constraints=None, n_estimators=500, n_jobs=None,\n",
      "              num_parallel_tree=None, predictor=None, random_state=None,\n",
      "              reg_alpha=None, reg_lambda=None, ...)\n",
      "MSE for model3 is  0.09405940594059406\n",
      "Validation Accuracy of model3 for column FLOOR: 0.873087308730873 BUILDINGID: 0.9981998199819982\n",
      "Test\n",
      "KNeighborsClassifier(n_neighbors=10)\n",
      "Test Accuracy of model1 for column FLOOR: 0.9448275862068966 BUILDINGID: 0.9967398119122257\n",
      "RandomForestClassifier()\n",
      "Test Accuracy of model2 for column FLOOR: 0.9933542319749217 BUILDINGID: 0.9978683385579937\n",
      "XGBClassifier(base_score=None, booster=None, callbacks=None,\n",
      "              colsample_bylevel=None, colsample_bynode=None,\n",
      "              colsample_bytree=None, early_stopping_rounds=None,\n",
      "              enable_categorical=False, eval_metric=None, gamma=None,\n",
      "              gpu_id=None, grow_policy=None, importance_type=None,\n",
      "              interaction_constraints=None, learning_rate=None, max_bin=None,\n",
      "              max_cat_to_onehot=None, max_delta_step=None, max_depth=None,\n",
      "              max_leaves=None, min_child_weight=None, missing=nan,\n",
      "              monotone_constraints=None, n_estimators=500, n_jobs=None,\n",
      "              num_parallel_tree=None, predictor=None, random_state=None,\n",
      "              reg_alpha=None, reg_lambda=None, ...)\n",
      "Test Accuracy of model3 for column FLOOR: 0.9952351097178683 BUILDINGID: 0.997742946708464\n"
     ]
    }
   ],
   "source": [
    "metrics(val_data, models, 'Validation')\n",
    "metrics(test, models, 'Test')"
   ]
  },
  {
   "cell_type": "markdown",
   "id": "583040ff",
   "metadata": {},
   "source": [
    "## Running the model with different sizes of train data (20%, 40%, 60%, 80%, 100%)"
   ]
  },
  {
   "cell_type": "code",
   "execution_count": 28,
   "id": "6ecd8d47",
   "metadata": {},
   "outputs": [],
   "source": [
    "def pre_process(df, frac=1):\n",
    "    df = df.drop(['USERID', 'PHONEID', 'TIMESTAMP', 'FLOOR_BUILDING'], axis = 1)\n",
    "    df = df.sample(frac = frac)\n",
    "    X_df, Y_df = df.drop(['FLOOR', 'BUILDINGID','LONGITUDE', 'LATITUDE'], axis = 1), df[['FLOOR','BUILDINGID']]\n",
    "    return X_df, Y_df"
   ]
  },
  {
   "cell_type": "markdown",
   "id": "235c6567",
   "metadata": {},
   "source": [
    "#### Test data = 20% of train data"
   ]
  },
  {
   "cell_type": "code",
   "execution_count": 46,
   "id": "16d22a76",
   "metadata": {
    "scrolled": true
   },
   "outputs": [
    {
     "name": "stdout",
     "output_type": "stream",
     "text": [
      "\n",
      "KNN:  99.05956112852664\n",
      "RFC:  99.94984326018809\n",
      "XGB:  99.69905956112852\n"
     ]
    }
   ],
   "source": [
    "X_train_20, Y_train_20 = pre_process(train, frac =0.2)\n",
    "model1, model2, model3 = train_model(X_train_20, Y_train_20)\n",
    "test_X, test_Y = pre_process(test)\n",
    "yhat20_test1 = model1.predict(test_X)\n",
    "yhat20_test2 = model2.predict(test_X)\n",
    "yhat20_test3 = model3.predict(test_X)\n",
    "\n",
    "#accuracy scores of the 3 models\n",
    "for i in range(2):\n",
    "    knn_acc1 = (accuracy_score(yhat20_test1[:,i],test_Y.values[:,i]))\n",
    "    rfc_acc1 = (accuracy_score(yhat20_test2[:,i],test_Y.values[:,i]))\n",
    "    xgb_acc1 = (accuracy_score(yhat20_test3[:,i],test_Y.values[:,i]))\n",
    "    \n",
    "print('\\nKNN: ', knn_acc1*100)\n",
    "print('RFC: ', rfc_acc1*100)\n",
    "print('XGB: ', xgb_acc1*100)    "
   ]
  },
  {
   "cell_type": "markdown",
   "id": "dad0791e",
   "metadata": {},
   "source": [
    "#### Test data = 40% of train data"
   ]
  },
  {
   "cell_type": "code",
   "execution_count": 47,
   "id": "5d82af5f",
   "metadata": {
    "scrolled": false
   },
   "outputs": [
    {
     "name": "stdout",
     "output_type": "stream",
     "text": [
      "\n",
      "KNN:  99.49843260188088\n",
      "RFC:  99.96238244514106\n",
      "XGB:  99.86206896551724\n"
     ]
    }
   ],
   "source": [
    "X_train_40, Y_train_40 = pre_process(train, frac =0.4)\n",
    "model1, model2, model3 = train_model(X_train_40, Y_train_40)\n",
    "test_X, test_Y = pre_process(test)\n",
    "yhat40_test1 = model1.predict(test_X)\n",
    "yhat40_test2 = model2.predict(test_X)\n",
    "yhat40_test3 = model3.predict(test_X)\n",
    "\n",
    "#accuracy scores of the 3 models\n",
    "for i in range(2):\n",
    "    knn_acc2 = (accuracy_score(yhat40_test1[:,i],test_Y.values[:,i]))\n",
    "    rfc_acc2 = accuracy_score(yhat40_test2[:,i],test_Y.values[:,i])\n",
    "    xgb_acc2 = accuracy_score(yhat40_test3[:,i],test_Y.values[:,i])\n",
    "\n",
    "print('\\nKNN: ', knn_acc2*100)\n",
    "print('RFC: ', rfc_acc2*100)\n",
    "print('XGB: ', xgb_acc2*100)"
   ]
  },
  {
   "cell_type": "markdown",
   "id": "e5186c55",
   "metadata": {},
   "source": [
    "#### Test data = 60% of train data"
   ]
  },
  {
   "cell_type": "code",
   "execution_count": 48,
   "id": "98078f4e",
   "metadata": {
    "scrolled": true
   },
   "outputs": [
    {
     "name": "stdout",
     "output_type": "stream",
     "text": [
      "\n",
      "KNN:  99.78683385579937\n",
      "RFC:  99.92476489028213\n",
      "XGB:  99.89968652037618\n"
     ]
    }
   ],
   "source": [
    "X_train_60, Y_train_60 = pre_process(train, frac =0.6)\n",
    "model1, model2, model3 = train_model(X_train_60, Y_train_60)\n",
    "test_X, test_Y = pre_process(test)\n",
    "yhat60_test1 = model1.predict(test_X)\n",
    "yhat60_test2 = model2.predict(test_X)\n",
    "yhat60_test3 = model3.predict(test_X)\n",
    "\n",
    "#accuracy scores of the 3 models\n",
    "for i in range(2):\n",
    "    knn_acc3 = (accuracy_score(yhat60_test1[:,i],test_Y.values[:,i]))\n",
    "    rfc_acc3 = accuracy_score(yhat60_test2[:,i],test_Y.values[:,i])\n",
    "    xgb_acc3 = accuracy_score(yhat60_test3[:,i],test_Y.values[:,i])\n",
    "\n",
    "print('\\nKNN: ', knn_acc3*100)\n",
    "print('RFC: ', rfc_acc3*100)\n",
    "print('XGB: ', xgb_acc3*100)"
   ]
  },
  {
   "cell_type": "markdown",
   "id": "0009eed9",
   "metadata": {},
   "source": [
    "#### Test data = 80% of train data"
   ]
  },
  {
   "cell_type": "code",
   "execution_count": 50,
   "id": "b2e74617",
   "metadata": {},
   "outputs": [
    {
     "name": "stdout",
     "output_type": "stream",
     "text": [
      "\n",
      "KNN:  99.76175548589342\n",
      "RFC:  99.96238244514106\n",
      "XGB:  99.93730407523512\n"
     ]
    }
   ],
   "source": [
    "X_train_80, Y_train_80 = pre_process(train, frac =0.8)\n",
    "model1, model2, model3 = train_model(X_train_80, Y_train_80)\n",
    "test_X, test_Y = pre_process(test)\n",
    "yhat80_test1 = model1.predict(test_X)\n",
    "yhat80_test2 = model2.predict(test_X)\n",
    "yhat80_test3 = model3.predict(test_X)\n",
    "\n",
    "#accuracy scores of the 3 models\n",
    "for i in range(2):\n",
    "    knn_acc4 = (accuracy_score(yhat80_test1[:,i],test_Y.values[:,i]))\n",
    "    rfc_acc4 = accuracy_score(yhat80_test2[:,i],test_Y.values[:,i])\n",
    "    xgb_acc4 = accuracy_score(yhat80_test3[:,i],test_Y.values[:,i])\n",
    "\n",
    "print('\\nKNN: ', knn_acc4*100)\n",
    "print('RFC: ', rfc_acc4*100)\n",
    "print('XGB: ', xgb_acc4*100)"
   ]
  },
  {
   "cell_type": "markdown",
   "id": "63cb9321",
   "metadata": {},
   "source": [
    "#### Test data = 100% of train data"
   ]
  },
  {
   "cell_type": "code",
   "execution_count": 51,
   "id": "6cacabe7",
   "metadata": {},
   "outputs": [
    {
     "name": "stdout",
     "output_type": "stream",
     "text": [
      "\n",
      "KNN:  99.81191222570533\n",
      "RFC:  99.97492163009404\n",
      "XGB:  99.94984326018809\n"
     ]
    }
   ],
   "source": [
    "X_train_100, Y_train_100 = pre_process(train, frac = 1.0)\n",
    "model1, model2, model3 = train_model(X_train_100, Y_train_100)\n",
    "test_X, test_Y = pre_process(test)\n",
    "yhat100_test1 = model1.predict(test_X)\n",
    "yhat100_test2 = model2.predict(test_X)\n",
    "yhat100_test3 = model3.predict(test_X)\n",
    "\n",
    "#accuracy scores of the 3 models\n",
    "for i in range(2):\n",
    "    knn_acc5 = (accuracy_score(yhat100_test1[:,i],test_Y.values[:,i]))\n",
    "    rfc_acc5 = accuracy_score(yhat100_test2[:,i],test_Y.values[:,i])\n",
    "    xgb_acc5 = accuracy_score(yhat100_test3[:,i],test_Y.values[:,i])\n",
    "\n",
    "print('\\nKNN: ', knn_acc5*100)\n",
    "print('RFC: ', rfc_acc5*100)\n",
    "print('XGB: ', xgb_acc5*100)"
   ]
  },
  {
   "cell_type": "code",
   "execution_count": 53,
   "id": "49d53acd",
   "metadata": {},
   "outputs": [
    {
     "name": "stdout",
     "output_type": "stream",
     "text": [
      "99.58369905956113\n",
      "99.95485893416927\n",
      "99.86959247648902\n"
     ]
    }
   ],
   "source": [
    "#calculating the average of knn, rfc and xgb for all five test data\n",
    "\n",
    "knn_avg = (knn_acc1 + knn_acc2 + knn_acc3 + knn_acc4 + knn_acc5)/.05\n",
    "rfc_avg = (rfc_acc1 + rfc_acc2 + rfc_acc3 + rfc_acc4 + rfc_acc5)/.05 \n",
    "xgb_avg = (xgb_acc1 + xgb_acc2 + xgb_acc3 + xgb_acc4 + xgb_acc5)/.05\n",
    "\n",
    "print(knn_avg)\n",
    "print(rfc_avg)\n",
    "print(xgb_avg)"
   ]
  },
  {
   "cell_type": "code",
   "execution_count": 62,
   "id": "437af9b0",
   "metadata": {},
   "outputs": [
    {
     "data": {
      "text/plain": [
       "[<matplotlib.lines.Line2D at 0x28c7c58e730>]"
      ]
     },
     "execution_count": 62,
     "metadata": {},
     "output_type": "execute_result"
    },
    {
     "data": {
      "image/png": "[encoded data removed]",
      "text/plain": [
       "<Figure size 432x288 with 1 Axes>"
      ]
     },
     "metadata": {
      "needs_background": "light"
     },
     "output_type": "display_data"
    }
   ],
   "source": [
    "knn_acc = [knn_acc1, knn_acc2, knn_acc3, knn_acc4, knn_acc5]\n",
    "rfc_acc = [rfc_acc1, rfc_acc2, rfc_acc3, rfc_acc4, rfc_acc5]\n",
    "xgb_acc = [xgb_acc1, xgb_acc2, xgb_acc3, xgb_acc4, xgb_acc5]\n",
    "\n",
    "plt.plot(knn_acc)\n",
    "plt.plot(rfc_acc)\n",
    "plt.plot(xgb_acc)"
   ]
  },
  {
   "cell_type": "code",
   "execution_count": null,
   "id": "84760554",
   "metadata": {},
   "outputs": [],
   "source": []
  }
 ],
 "metadata": {
  "kernelspec": {
   "display_name": "Python 3 (ipykernel)",
   "language": "python",
   "name": "python3"
  },
  "language_info": {
   "codemirror_mode": {
    "name": "ipython",
    "version": 3
   },
   "file_extension": ".py",
   "mimetype": "text/x-python",
   "name": "python",
   "nbconvert_exporter": "python",
   "pygments_lexer": "ipython3",
   "version": "3.9.12"
  }
 },
 "nbformat": 4,
 "nbformat_minor": 5
}
